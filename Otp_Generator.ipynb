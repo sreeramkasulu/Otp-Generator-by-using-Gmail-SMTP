{
  "nbformat": 4,
  "nbformat_minor": 0,
  "metadata": {
    "colab": {
      "provenance": []
    },
    "kernelspec": {
      "name": "python3",
      "display_name": "Python 3"
    },
    "language_info": {
      "name": "python"
    }
  },
  "cells": [
    {
      "cell_type": "code",
      "execution_count": 1,
      "metadata": {
        "colab": {
          "base_uri": "https://localhost:8080/"
        },
        "id": "Yx8YaAyaMH-L",
        "outputId": "f802a55a-e8b6-4af4-f573-b978f140720e"
      },
      "outputs": [
        {
          "output_type": "stream",
          "name": "stdout",
          "text": [
            "enter your name:sreeram\n",
            "enter ur email id:sriramkasulu@gmail.com\n",
            "OTP has been sent to sriramkasulu@gmail.com\n",
            "enter OTP:969677\n",
            "OTP verified\n"
          ]
        },
        {
          "output_type": "execute_result",
          "data": {
            "text/plain": [
              "(221,\n",
              " b'2.0.0 closing connection a1e0cc1a2514c-831afeb0da6sm150880241.8 - gsmtp')"
            ]
          },
          "metadata": {},
          "execution_count": 1
        }
      ],
      "source": [
        "import random\n",
        "import smtplib\n",
        "\n",
        "OTP = random.randint(100000,999999)\n",
        "\n",
        "#setting up server\n",
        "server = smtplib.SMTP('smtp.gmail.com',587)\n",
        "#server = smtplib.SMTP('64.233.184.108',587)\n",
        "server.starttls()\n",
        "\n",
        "name = input(\"enter your name:\")\n",
        "global receiver_email\n",
        "receiver_email = input(\"enter ur email id:\")\n",
        "\n",
        "def email_verification(receiver_email):\n",
        "    email_check1 = [\"gmail\",\"hotmail\",\"yahoo\",\"outlook\"]\n",
        "    email_check2 = [\".com\",\".in\",\".org\",\".edu\",\".co.in\"]\n",
        "    count = 0\n",
        "\n",
        "    for domain in email_check1:\n",
        "        if domain in receiver_email:\n",
        "            count+=1\n",
        "    for site in email_check2:\n",
        "        if site in receiver_email:\n",
        "            count+=1\n",
        "\n",
        "    if \"@\" not in receiver_email or count!=2:\n",
        "        print(\"invalid email id\")\n",
        "        new_receiver_email = input(\"enter correct email id:\")\n",
        "        email_verification(new_receiver_email)\n",
        "        return new_receiver_email\n",
        "    return receiver_email\n",
        "\n",
        "valid_receiver_email = email_verification(receiver_email)\n",
        "password = \"hmoh kwqa rcqw pjrj\"\n",
        "server.login(\"sreeramkasuluproject@gmail.com\",password)\n",
        "\n",
        "body = \"dear \"+name+\",\"+\"\\n\"+\"\\n\"+\"your OTP is \"+str(OTP)+\".\"\n",
        "subject = \"OTP verification using python\"\n",
        "message = f'subject:{subject}\\n\\n{body}'\n",
        "\n",
        "server.sendmail(\"sreeramkasuluproject@gmail.com\",valid_receiver_email,message)\n",
        "\n",
        "def sending_otp(receiver_email):\n",
        "    new_otp = random.randint(100000,999999)\n",
        "\n",
        "    body = \"dear\"+name+\",\"+\"\\n\"+\"\\n\"+\"your OTP is \"+str(new_otp)+\".\"\n",
        "    subject = \"OTP verification using python\"\n",
        "    message = f'subject:{subject}\\n\\n{body}'\n",
        "    server.sendmail(\"sreeramkasuluproject@gmail.com\",receiver_email,message)\n",
        "    print(\"OTP has been sent to\"+receiver_email)\n",
        "    received_OTP = int(input(\"enter OTP:\"))\n",
        "\n",
        "    if received_OTP==new_otp:\n",
        "        print(\"OTP verified\")\n",
        "    else:\n",
        "        print(\"invalid OTP\")\n",
        "        print(\"resending OTP.....\")\n",
        "        sending_otp(receiver_email)\n",
        "\n",
        "print(\"OTP has been sent to \"+valid_receiver_email)\n",
        "received_OTP = int(input(\"enter OTP:\"))\n",
        "\n",
        "if received_OTP==OTP:\n",
        "    print(\"OTP verified\")\n",
        "else:\n",
        "    print(\"invalid OTP\")\n",
        "    answer = input(\"enter yes to resend OTP on same email and no to enter a new email id:\")\n",
        "    YES = ['YES','yes','Yes']\n",
        "    NO = ['NO','no','No']\n",
        "    if answer in YES:\n",
        "        sending_otp(valid_receiver_email)\n",
        "    elif answer in NO:\n",
        "        new_receiver_email = input(\"enter new email id:\")\n",
        "        email_verification(new_receiver_email)\n",
        "        sending_otp(new_receiver_email)\n",
        "    else:\n",
        "        print(\"invalid input\")\n",
        "\n",
        "server.quit()"
      ]
    }
  ]
}